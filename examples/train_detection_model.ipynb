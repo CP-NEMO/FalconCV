{
  "nbformat": 4,
  "nbformat_minor": 0,
  "metadata": {
    "colab": {
      "name": "train_detection_model.ipynb",
      "provenance": [],
      "toc_visible": true,
      "machine_shape": "hm"
    },
    "kernelspec": {
      "name": "python3",
      "display_name": "Python 3"
    },
    "accelerator": "GPU"
  },
  "cells": [
    {
      "cell_type": "markdown",
      "metadata": {
        "id": "tgCjQiKvjW4J",
        "colab_type": "text"
      },
      "source": [
        "![picture](https://drive.google.com/uc?id=1fKl1AgT3f2nW2h-44Ea7zmJa4qd7gHhy)\n",
        "\n",
        "FalconCV is an open-source Python library that offers developers an interface to interact with some of the most popular computer vision frameworks, such as TensorFlow Object detection API and Detectron.\n",
        "The main objective behind it is to unify the set of tools available and simplify the use of them. This library is focused mainly on Computer Vision practitioners but also is flexible enough to allow researchers to configure the models at a low-level.\n",
        "Additionally, taking advantage of the fantastic features that OpenVINO offers, a custom model can be trained and optimized to run efficiently in the target hardware with just a few lines of code. It is important to say that FalconCV does not attempt to replace any of the tools mentioned previously; instead, it takes the best of them and offers a solution to improve accessibility to new users."
      ]
    },
    {
      "cell_type": "markdown",
      "metadata": {
        "id": "YgBr_l08jVw0",
        "colab_type": "text"
      },
      "source": [
        "## Step 1: Install falconCV dependencies\n",
        "\n"
      ]
    },
    {
      "cell_type": "code",
      "metadata": {
        "id": "iM80rGM5kLUC",
        "colab_type": "code",
        "colab": {}
      },
      "source": [
        "!pip install matplotlib\n",
        "!pip install numpy==1.17\n",
        "!pip install opencv-contrib-python\n",
        "!pip install pillow\n",
        "!pip install cython\n",
        "!pip install tqdm\n",
        "!pip install scipy\n",
        "!pip install requests \n",
        "!pip install clint\n",
        "!pip install validators\n",
        "!pip install more-itertools\n",
        "!pip install pandas\n",
        "!pip install imutils\n",
        "!pip install boto3\n",
        "!pip install \"dask[complete]\" \n",
        "!pip install lxml\n",
        "!pip install Mako\n",
        "!pip install colorlog\n",
        "!pip install colorama\n",
        "!pip install bs4\n",
        "!pip install pick\n",
        "!pip install -U scikit-learn\n",
        "!pip install gitpython\n",
        "!pip install cython\n",
        "!pip install pycocotools\n",
        "!pip install omegaconf\n",
        "!pip install -U -f https://extras.wxpython.org/wxPython4/extras/linux/gtk3/ubuntu-16.04 wxPython\n",
        "!pip install tf_slim\n",
        "!sudo apt install protobuf-compiler"
      ],
      "execution_count": 0,
      "outputs": []
    },
    {
      "cell_type": "markdown",
      "metadata": {
        "id": "QVdC29Y1jvcz",
        "colab_type": "text"
      },
      "source": [
        "## Step 2: Check Tensorflow Version and GPU Support\n",
        "\n"
      ]
    },
    {
      "cell_type": "code",
      "metadata": {
        "id": "9GE77P7wjOT2",
        "colab_type": "code",
        "outputId": "9440c55c-d849-4a48-bbe4-9d21bf620da4",
        "colab": {
          "base_uri": "https://localhost:8080/",
          "height": 52
        }
      },
      "source": [
        "%tensorflow_version 1.x\n",
        "import tensorflow as tf\n",
        "print(tf.__version__)"
      ],
      "execution_count": 1,
      "outputs": [
        {
          "output_type": "stream",
          "text": [
            "TensorFlow 1.x selected.\n",
            "1.15.2\n"
          ],
          "name": "stdout"
        }
      ]
    },
    {
      "cell_type": "code",
      "metadata": {
        "id": "GmnxveVdkCvC",
        "colab_type": "code",
        "outputId": "167361e2-fdd4-43ae-f59f-9356d4b01db0",
        "colab": {
          "base_uri": "https://localhost:8080/",
          "height": 33
        }
      },
      "source": [
        "device_name = tf.test.gpu_device_name()\n",
        "if device_name != '/device:GPU:0':\n",
        "    raise SystemError('GPU device not found')\n",
        "print('Found GPU at: {}'.format(device_name))"
      ],
      "execution_count": 2,
      "outputs": [
        {
          "output_type": "stream",
          "text": [
            "Found GPU at: /device:GPU:0\n"
          ],
          "name": "stdout"
        }
      ]
    },
    {
      "cell_type": "markdown",
      "metadata": {
        "id": "DM55jH_qlUhs",
        "colab_type": "text"
      },
      "source": [
        "## Step 3: Install falconcv"
      ]
    },
    {
      "cell_type": "code",
      "metadata": {
        "id": "LgICYY4_owY2",
        "colab_type": "code",
        "colab": {}
      },
      "source": [
        "!pip uninstall falconcv -y && pip install git+https://github.com/haruiz/FalconCV.git"
      ],
      "execution_count": 0,
      "outputs": []
    },
    {
      "cell_type": "code",
      "metadata": {
        "id": "EaKAdjbvCN9C",
        "colab_type": "code",
        "colab": {}
      },
      "source": [
        "import os\n",
        "from falconcv.models.tf import ModelZoo\n",
        "from falconcv.ds import *\n",
        "from falconcv.util import FileUtil, VIUtil, ColorUtil\n",
        "from falconcv.models import ModelBuilder"
      ],
      "execution_count": 0,
      "outputs": []
    },
    {
      "cell_type": "markdown",
      "metadata": {
        "id": "UvLXLE1LmP2U",
        "colab_type": "text"
      },
      "source": [
        "## Step 4: Make Dataset\n",
        "FalconCV offer different alternatives to create custom datasets; the user can download images from OpenImages or Coco dataset, or download images from Flicker or Bing\n",
        "\n",
        "\n"
      ]
    },
    {
      "cell_type": "code",
      "metadata": {
        "id": "mAJqMtfkmPgK",
        "colab_type": "code",
        "colab": {}
      },
      "source": [
        "def create_dataset(images_folder, labels_map, n, batch_size):\n",
        "    try:\n",
        "        # creating dataset\n",
        "        dataset = OpenImages(v=6)\n",
        "        dataset.setup(split=\"train\", task=\"detection\")\n",
        "        # labels = dataset.labels_map.values() # get valid labels\n",
        "        os.makedirs(images_folder, exist_ok=True)\n",
        "        FileUtil.clear_folder(images_folder)\n",
        "        for batch_images in dataset.fetch(\n",
        "                n=n,\n",
        "                labels=list(labels_map.keys()),\n",
        "                batch_size=batch_size):\n",
        "            for img in batch_images:\n",
        "                img.export(images_folder, labels_map)\n",
        "                for region in img.regions:\n",
        "                    pass\n",
        "                    # print(region.shape_attributes[\"x\"],\n",
        "                    #       region.shape_attributes[\"y\"])\n",
        "    except Exception as ex:\n",
        "        print(\"error creating the dataset {} \".format(ex))\n"
      ],
      "execution_count": 0,
      "outputs": []
    },
    {
      "cell_type": "markdown",
      "metadata": {
        "id": "nUzkvhjiIEJu",
        "colab_type": "text"
      },
      "source": [
        "## Step 5: Select the model\n"
      ]
    },
    {
      "cell_type": "code",
      "metadata": {
        "id": "yxVZw-bcICVs",
        "colab_type": "code",
        "colab": {
          "base_uri": "https://localhost:8080/",
          "height": 53
        },
        "outputId": "a1efb3a8-d4f6-4463-f21f-edf4dd45e2ca"
      },
      "source": [
        "available_models = ModelZoo.available_models(arch=\"faster\")\n",
        "print(available_models)"
      ],
      "execution_count": 7,
      "outputs": [
        {
          "output_type": "stream",
          "text": [
            "{'faster_rcnn_inception_v2_coco': 'http://download.tensorflow.org/models/object_detection/faster_rcnn_inception_v2_coco_2018_01_28.tar.gz', 'faster_rcnn_resnet50_coco': 'http://download.tensorflow.org/models/object_detection/faster_rcnn_resnet50_coco_2018_01_28.tar.gz', 'faster_rcnn_resnet50_lowproposals_coco': 'http://download.tensorflow.org/models/object_detection/faster_rcnn_resnet50_lowproposals_coco_2018_01_28.tar.gz', 'faster_rcnn_resnet101_coco': 'http://download.tensorflow.org/models/object_detection/faster_rcnn_resnet101_coco_2018_01_28.tar.gz', 'faster_rcnn_resnet101_lowproposals_coco': 'http://download.tensorflow.org/models/object_detection/faster_rcnn_resnet101_lowproposals_coco_2018_01_28.tar.gz', 'faster_rcnn_inception_resnet_v2_atrous_coco': 'http://download.tensorflow.org/models/object_detection/faster_rcnn_inception_resnet_v2_atrous_coco_2018_01_28.tar.gz', 'faster_rcnn_inception_resnet_v2_atrous_lowproposals_coco': 'http://download.tensorflow.org/models/object_detection/faster_rcnn_inception_resnet_v2_atrous_lowproposals_coco_2018_01_28.tar.gz', 'faster_rcnn_nas': 'http://download.tensorflow.org/models/object_detection/faster_rcnn_nas_coco_2018_01_28.tar.gz', 'faster_rcnn_nas_lowproposals_coco': 'http://download.tensorflow.org/models/object_detection/faster_rcnn_nas_lowproposals_coco_2018_01_28.tar.gz', 'faster_rcnn_resnet101_kitti': 'http://download.tensorflow.org/models/object_detection/faster_rcnn_resnet101_kitti_2018_01_28.tar.gz', 'faster_rcnn_inception_resnet_v2_atrous_oidv2': 'http://download.tensorflow.org/models/object_detection/faster_rcnn_inception_resnet_v2_atrous_oid_2018_01_28.tar.gz', 'faster_rcnn_inception_resnet_v2_atrous_lowproposals_oidv2': 'http://download.tensorflow.org/models/object_detection/faster_rcnn_inception_resnet_v2_atrous_lowproposals_oid_2018_01_28.tar.gz', 'faster_rcnn_inception_resnet_v2_atrous_oidv4': 'http://download.tensorflow.org/models/object_detection/faster_rcnn_inception_resnet_v2_atrous_oid_v4_2018_12_12.tar.gz', 'faster_rcnn_resnet101_fgvc': 'http://download.tensorflow.org/models/object_detection/faster_rcnn_resnet101_fgvc_2018_07_19.tar.gz', 'faster_rcnn_resnet50_fgvc': 'http://download.tensorflow.org/models/object_detection/faster_rcnn_resnet50_fgvc_2018_07_19.tar.gz', 'faster_rcnn_resnet101_ava_v2.1': 'http://download.tensorflow.org/models/object_detection/faster_rcnn_resnet101_ava_v2.1_2018_04_30.tar.gz'}\n"
          ],
          "name": "stdout"
        }
      ]
    },
    {
      "cell_type": "markdown",
      "metadata": {
        "id": "VvhjwX71Ia7f",
        "colab_type": "text"
      },
      "source": [
        "## Step 6: Train the model"
      ]
    },
    {
      "cell_type": "code",
      "metadata": {
        "id": "ctxge1zfIeYO",
        "colab_type": "code",
        "colab": {}
      },
      "source": [
        "def train_model(model_name, images_folder, labels_map, epochs=5000):\n",
        "    try:\n",
        "        config = {\n",
        "            \"model\": model_name,\n",
        "            \"images_folder\": images_folder\n",
        "        }\n",
        "        with ModelBuilder.build(config=config) as model:\n",
        "            model.train(epochs=epochs, val_split=0.3, clear_folder=True)\n",
        "            model.freeze(epochs)\n",
        "    except Exception as ex:\n",
        "        raise Exception(\"Error training the model {} \".format(ex)) from ex"
      ],
      "execution_count": 0,
      "outputs": []
    },
    {
      "cell_type": "markdown",
      "metadata": {
        "id": "z66x82FBIy0q",
        "colab_type": "text"
      },
      "source": [
        "## Step 7: Make predictions"
      ]
    },
    {
      "cell_type": "code",
      "metadata": {
        "id": "ZQWbgkZtI7OM",
        "colab_type": "code",
        "colab": {}
      },
      "source": [
        "def make_predictions(frozen_model, labels_map_file, image):    \n",
        "    # load freeze model\n",
        "    with ModelBuilder.build(frozen_model, labels_map_file) as model:\n",
        "        image, predictions = model.predict(image, threshold=0.7)\n",
        "        fig = VIUtil.imshow(image, predictions)\n",
        "        fig.savefig('result.png', dpi=300, bbox_inches='tight')          "
      ],
      "execution_count": 0,
      "outputs": []
    },
    {
      "cell_type": "markdown",
      "metadata": {
        "id": "-SfVBODoI9-1",
        "colab_type": "text"
      },
      "source": [
        "## Step 8: Run Pipeline"
      ]
    },
    {
      "cell_type": "code",
      "metadata": {
        "id": "e_FqIa_MJF7E",
        "colab_type": "code",
        "colab": {}
      },
      "source": [
        "labels_map = { \n",
        "    \"Eagle\": 1,\n",
        "    \"Falcon\": 2\n",
        "}\n",
        "images_folder = \"images\"\n",
        "# create the dataset\n",
        "create_dataset(images_folder, labels_map, n=1000, batch_size=250)\n",
        "# train model\n",
        "train_model(\"faster_rcnn_inception_v2_coco\", images_folder, labels_map)"
      ],
      "execution_count": 0,
      "outputs": []
    },
    {
      "cell_type": "code",
      "metadata": {
        "id": "2i-TvOAIO_WH",
        "colab_type": "code",
        "colab": {}
      },
      "source": [
        "from pathlib import Path\n",
        "frozen_model_file = list(Path(\"./models\").rglob(\"frozen_inference_graph.pb\"))[0]\n",
        "labels_map = list(Path(\"./models\").rglob(\"label_map.pbtxt\"))[0]\n",
        "make_predictions(str(frozen_model_file), str(labels_map), \"https://upload.wikimedia.org/wikipedia/commons/9/9a/Falco_peregrinus_good_-_Christopher_Watson.jpg\")"
      ],
      "execution_count": 0,
      "outputs": []
    }
  ]
}